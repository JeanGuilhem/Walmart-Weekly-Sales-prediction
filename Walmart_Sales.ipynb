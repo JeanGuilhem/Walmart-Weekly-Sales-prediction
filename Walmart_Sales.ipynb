{
  "nbformat": 4,
  "nbformat_minor": 0,
  "metadata": {
    "colab": {
      "name": "Walmart_Sales.ipynb",
      "provenance": [],
      "collapsed_sections": []
    },
    "kernelspec": {
      "name": "python3",
      "display_name": "Python 3"
    }
  },
  "cells": [
    {
      "cell_type": "code",
      "metadata": {
        "id": "yt5rdRuTzQr9"
      },
      "source": [
        "import pandas as pd\n",
        "import numpy as np\n",
        "import matplotlib.pyplot as plt\n",
        "import io\n"
      ],
      "execution_count": null,
      "outputs": []
    },
    {
      "cell_type": "markdown",
      "metadata": {
        "id": "DPDRNqHD8PI7"
      },
      "source": [
        "Upload et importation des données sur Google Colab\n"
      ]
    },
    {
      "cell_type": "code",
      "metadata": {
        "id": "EN6Jl4q84BKK"
      },
      "source": [
        "#from google.colab import files\n",
        "#uploaded = files.upload()\n"
      ],
      "execution_count": null,
      "outputs": []
    },
    {
      "cell_type": "code",
      "metadata": {
        "id": "lp-iSWt68gr7"
      },
      "source": [
        "#data = pd.read_csv(io.BytesIO(uploaded['Walmart Data Set Final Version 2.1.csv']))\n",
        "data = pd.read_csv(\"/content/drive/My Drive/Colab Notebooks/IA/Walmart_Sales_DataSet.csv\")"
      ],
      "execution_count": null,
      "outputs": []
    },
    {
      "cell_type": "markdown",
      "metadata": {
        "id": "iBRzXyMDFfig"
      },
      "source": [
        "# **Lecture du jeux de données et analyse**"
      ]
    },
    {
      "cell_type": "markdown",
      "metadata": {
        "id": "NVc0x5fE8lzL"
      },
      "source": [
        "Lecture du jeux de données\n",
        "\n",
        "---\n",
        "\n"
      ]
    },
    {
      "cell_type": "code",
      "metadata": {
        "id": "Zw43MAUf8XGy",
        "outputId": "5cf533fe-2c9f-4967-dab5-0b3599f8d08b",
        "colab": {
          "base_uri": "https://localhost:8080/",
          "height": 204
        }
      },
      "source": [
        "data.head()"
      ],
      "execution_count": null,
      "outputs": [
        {
          "output_type": "execute_result",
          "data": {
            "text/html": [
              "<div>\n",
              "<style scoped>\n",
              "    .dataframe tbody tr th:only-of-type {\n",
              "        vertical-align: middle;\n",
              "    }\n",
              "\n",
              "    .dataframe tbody tr th {\n",
              "        vertical-align: top;\n",
              "    }\n",
              "\n",
              "    .dataframe thead th {\n",
              "        text-align: right;\n",
              "    }\n",
              "</style>\n",
              "<table border=\"1\" class=\"dataframe\">\n",
              "  <thead>\n",
              "    <tr style=\"text-align: right;\">\n",
              "      <th></th>\n",
              "      <th>Store</th>\n",
              "      <th>Dept</th>\n",
              "      <th>Date</th>\n",
              "      <th>IsHoliday</th>\n",
              "      <th>Temperature</th>\n",
              "      <th>Fuel_Price</th>\n",
              "      <th>MarkDown1</th>\n",
              "      <th>MarkDown2</th>\n",
              "      <th>MarkDown3</th>\n",
              "      <th>MarkDown4</th>\n",
              "      <th>MarkDown5</th>\n",
              "      <th>CPI</th>\n",
              "      <th>Unemployment</th>\n",
              "      <th>Type</th>\n",
              "      <th>Size</th>\n",
              "      <th>Weekly_Sales</th>\n",
              "    </tr>\n",
              "  </thead>\n",
              "  <tbody>\n",
              "    <tr>\n",
              "      <th>0</th>\n",
              "      <td>Store1</td>\n",
              "      <td>Dept1</td>\n",
              "      <td>2/5/2010</td>\n",
              "      <td>False</td>\n",
              "      <td>42.31</td>\n",
              "      <td>2.572</td>\n",
              "      <td>NaN</td>\n",
              "      <td>NaN</td>\n",
              "      <td>NaN</td>\n",
              "      <td>NaN</td>\n",
              "      <td>NaN</td>\n",
              "      <td>211.096358</td>\n",
              "      <td>8.106</td>\n",
              "      <td>A</td>\n",
              "      <td>151315</td>\n",
              "      <td>24924.50</td>\n",
              "    </tr>\n",
              "    <tr>\n",
              "      <th>1</th>\n",
              "      <td>Store1</td>\n",
              "      <td>Dept2</td>\n",
              "      <td>2/5/2010</td>\n",
              "      <td>False</td>\n",
              "      <td>42.31</td>\n",
              "      <td>2.572</td>\n",
              "      <td>NaN</td>\n",
              "      <td>NaN</td>\n",
              "      <td>NaN</td>\n",
              "      <td>NaN</td>\n",
              "      <td>NaN</td>\n",
              "      <td>211.096358</td>\n",
              "      <td>8.106</td>\n",
              "      <td>A</td>\n",
              "      <td>151315</td>\n",
              "      <td>50605.27</td>\n",
              "    </tr>\n",
              "    <tr>\n",
              "      <th>2</th>\n",
              "      <td>Store1</td>\n",
              "      <td>Dept3</td>\n",
              "      <td>2/5/2010</td>\n",
              "      <td>False</td>\n",
              "      <td>42.31</td>\n",
              "      <td>2.572</td>\n",
              "      <td>NaN</td>\n",
              "      <td>NaN</td>\n",
              "      <td>NaN</td>\n",
              "      <td>NaN</td>\n",
              "      <td>NaN</td>\n",
              "      <td>211.096358</td>\n",
              "      <td>8.106</td>\n",
              "      <td>A</td>\n",
              "      <td>151315</td>\n",
              "      <td>13740.12</td>\n",
              "    </tr>\n",
              "    <tr>\n",
              "      <th>3</th>\n",
              "      <td>Store1</td>\n",
              "      <td>Dept4</td>\n",
              "      <td>2/5/2010</td>\n",
              "      <td>False</td>\n",
              "      <td>42.31</td>\n",
              "      <td>2.572</td>\n",
              "      <td>NaN</td>\n",
              "      <td>NaN</td>\n",
              "      <td>NaN</td>\n",
              "      <td>NaN</td>\n",
              "      <td>NaN</td>\n",
              "      <td>211.096358</td>\n",
              "      <td>8.106</td>\n",
              "      <td>A</td>\n",
              "      <td>151315</td>\n",
              "      <td>39954.04</td>\n",
              "    </tr>\n",
              "    <tr>\n",
              "      <th>4</th>\n",
              "      <td>Store1</td>\n",
              "      <td>Dept5</td>\n",
              "      <td>2/5/2010</td>\n",
              "      <td>False</td>\n",
              "      <td>42.31</td>\n",
              "      <td>2.572</td>\n",
              "      <td>NaN</td>\n",
              "      <td>NaN</td>\n",
              "      <td>NaN</td>\n",
              "      <td>NaN</td>\n",
              "      <td>NaN</td>\n",
              "      <td>211.096358</td>\n",
              "      <td>8.106</td>\n",
              "      <td>A</td>\n",
              "      <td>151315</td>\n",
              "      <td>32229.38</td>\n",
              "    </tr>\n",
              "  </tbody>\n",
              "</table>\n",
              "</div>"
            ],
            "text/plain": [
              "    Store   Dept      Date  IsHoliday  ...  Unemployment  Type    Size  Weekly_Sales\n",
              "0  Store1  Dept1  2/5/2010      False  ...         8.106     A  151315      24924.50\n",
              "1  Store1  Dept2  2/5/2010      False  ...         8.106     A  151315      50605.27\n",
              "2  Store1  Dept3  2/5/2010      False  ...         8.106     A  151315      13740.12\n",
              "3  Store1  Dept4  2/5/2010      False  ...         8.106     A  151315      39954.04\n",
              "4  Store1  Dept5  2/5/2010      False  ...         8.106     A  151315      32229.38\n",
              "\n",
              "[5 rows x 16 columns]"
            ]
          },
          "metadata": {
            "tags": []
          },
          "execution_count": 178
        }
      ]
    },
    {
      "cell_type": "markdown",
      "metadata": {
        "id": "ZFGkHsEr-x4W"
      },
      "source": [
        "Description des données exclusivement différentes de NaN"
      ]
    },
    {
      "cell_type": "code",
      "metadata": {
        "id": "FFFW3qvK8to6",
        "outputId": "7886c795-c4c5-487d-cb86-4c2d3baa4f2b",
        "colab": {
          "base_uri": "https://localhost:8080/",
          "height": 297
        }
      },
      "source": [
        "data.describe() "
      ],
      "execution_count": null,
      "outputs": [
        {
          "output_type": "execute_result",
          "data": {
            "text/html": [
              "<div>\n",
              "<style scoped>\n",
              "    .dataframe tbody tr th:only-of-type {\n",
              "        vertical-align: middle;\n",
              "    }\n",
              "\n",
              "    .dataframe tbody tr th {\n",
              "        vertical-align: top;\n",
              "    }\n",
              "\n",
              "    .dataframe thead th {\n",
              "        text-align: right;\n",
              "    }\n",
              "</style>\n",
              "<table border=\"1\" class=\"dataframe\">\n",
              "  <thead>\n",
              "    <tr style=\"text-align: right;\">\n",
              "      <th></th>\n",
              "      <th>Temperature</th>\n",
              "      <th>Fuel_Price</th>\n",
              "      <th>MarkDown1</th>\n",
              "      <th>MarkDown2</th>\n",
              "      <th>MarkDown3</th>\n",
              "      <th>MarkDown4</th>\n",
              "      <th>MarkDown5</th>\n",
              "      <th>CPI</th>\n",
              "      <th>Unemployment</th>\n",
              "      <th>Size</th>\n",
              "      <th>Weekly_Sales</th>\n",
              "    </tr>\n",
              "  </thead>\n",
              "  <tbody>\n",
              "    <tr>\n",
              "      <th>count</th>\n",
              "      <td>421570.000000</td>\n",
              "      <td>421570.000000</td>\n",
              "      <td>150681.000000</td>\n",
              "      <td>111248.000000</td>\n",
              "      <td>137091.000000</td>\n",
              "      <td>134967.000000</td>\n",
              "      <td>151432.000000</td>\n",
              "      <td>421570.000000</td>\n",
              "      <td>421570.000000</td>\n",
              "      <td>421570.000000</td>\n",
              "      <td>421570.000000</td>\n",
              "    </tr>\n",
              "    <tr>\n",
              "      <th>mean</th>\n",
              "      <td>60.090059</td>\n",
              "      <td>3.361027</td>\n",
              "      <td>7246.420196</td>\n",
              "      <td>3334.628621</td>\n",
              "      <td>1439.421384</td>\n",
              "      <td>3383.168256</td>\n",
              "      <td>4628.975079</td>\n",
              "      <td>171.201947</td>\n",
              "      <td>7.960289</td>\n",
              "      <td>136727.915739</td>\n",
              "      <td>15981.258123</td>\n",
              "    </tr>\n",
              "    <tr>\n",
              "      <th>std</th>\n",
              "      <td>18.447931</td>\n",
              "      <td>0.458515</td>\n",
              "      <td>8291.221345</td>\n",
              "      <td>9475.357325</td>\n",
              "      <td>9623.078290</td>\n",
              "      <td>6292.384031</td>\n",
              "      <td>5962.887455</td>\n",
              "      <td>39.159276</td>\n",
              "      <td>1.863296</td>\n",
              "      <td>60980.583328</td>\n",
              "      <td>22711.183519</td>\n",
              "    </tr>\n",
              "    <tr>\n",
              "      <th>min</th>\n",
              "      <td>-2.060000</td>\n",
              "      <td>2.472000</td>\n",
              "      <td>0.270000</td>\n",
              "      <td>-265.760000</td>\n",
              "      <td>-29.100000</td>\n",
              "      <td>0.220000</td>\n",
              "      <td>135.160000</td>\n",
              "      <td>126.064000</td>\n",
              "      <td>3.879000</td>\n",
              "      <td>34875.000000</td>\n",
              "      <td>-4988.940000</td>\n",
              "    </tr>\n",
              "    <tr>\n",
              "      <th>25%</th>\n",
              "      <td>46.680000</td>\n",
              "      <td>2.933000</td>\n",
              "      <td>2240.270000</td>\n",
              "      <td>41.600000</td>\n",
              "      <td>5.080000</td>\n",
              "      <td>504.220000</td>\n",
              "      <td>1878.440000</td>\n",
              "      <td>132.022667</td>\n",
              "      <td>6.891000</td>\n",
              "      <td>93638.000000</td>\n",
              "      <td>2079.650000</td>\n",
              "    </tr>\n",
              "    <tr>\n",
              "      <th>50%</th>\n",
              "      <td>62.090000</td>\n",
              "      <td>3.452000</td>\n",
              "      <td>5347.450000</td>\n",
              "      <td>192.000000</td>\n",
              "      <td>24.600000</td>\n",
              "      <td>1481.310000</td>\n",
              "      <td>3359.450000</td>\n",
              "      <td>182.318780</td>\n",
              "      <td>7.866000</td>\n",
              "      <td>140167.000000</td>\n",
              "      <td>7612.030000</td>\n",
              "    </tr>\n",
              "    <tr>\n",
              "      <th>75%</th>\n",
              "      <td>74.280000</td>\n",
              "      <td>3.738000</td>\n",
              "      <td>9210.900000</td>\n",
              "      <td>1926.940000</td>\n",
              "      <td>103.990000</td>\n",
              "      <td>3595.040000</td>\n",
              "      <td>5563.800000</td>\n",
              "      <td>212.416993</td>\n",
              "      <td>8.572000</td>\n",
              "      <td>202505.000000</td>\n",
              "      <td>20205.852500</td>\n",
              "    </tr>\n",
              "    <tr>\n",
              "      <th>max</th>\n",
              "      <td>100.140000</td>\n",
              "      <td>4.468000</td>\n",
              "      <td>88646.760000</td>\n",
              "      <td>104519.540000</td>\n",
              "      <td>141630.610000</td>\n",
              "      <td>67474.850000</td>\n",
              "      <td>108519.280000</td>\n",
              "      <td>227.232807</td>\n",
              "      <td>14.313000</td>\n",
              "      <td>219622.000000</td>\n",
              "      <td>693099.360000</td>\n",
              "    </tr>\n",
              "  </tbody>\n",
              "</table>\n",
              "</div>"
            ],
            "text/plain": [
              "         Temperature     Fuel_Price  ...           Size   Weekly_Sales\n",
              "count  421570.000000  421570.000000  ...  421570.000000  421570.000000\n",
              "mean       60.090059       3.361027  ...  136727.915739   15981.258123\n",
              "std        18.447931       0.458515  ...   60980.583328   22711.183519\n",
              "min        -2.060000       2.472000  ...   34875.000000   -4988.940000\n",
              "25%        46.680000       2.933000  ...   93638.000000    2079.650000\n",
              "50%        62.090000       3.452000  ...  140167.000000    7612.030000\n",
              "75%        74.280000       3.738000  ...  202505.000000   20205.852500\n",
              "max       100.140000       4.468000  ...  219622.000000  693099.360000\n",
              "\n",
              "[8 rows x 11 columns]"
            ]
          },
          "metadata": {
            "tags": []
          },
          "execution_count": 179
        }
      ]
    },
    {
      "cell_type": "markdown",
      "metadata": {
        "id": "mlirJ1te-s_n"
      },
      "source": [
        "Détermination des données numériques et catégoriques"
      ]
    },
    {
      "cell_type": "code",
      "metadata": {
        "id": "j29gFABU-w-7"
      },
      "source": [
        "numeric_var = [key for key in dict(data.dtypes) if dict(data.dtypes)[key] in ['float64', 'int64', 'float32', 'int32']]\n",
        "cat_var = [key for key in dict(data.dtypes) if dict(data.dtypes)[key] in ['object','bool']]\n",
        "\n",
        "# Valeurs numériques\n",
        "train_num=data[numeric_var]\n",
        "\n",
        "# Valeurs catégoriques\n",
        "train_cat=data[cat_var]\n"
      ],
      "execution_count": null,
      "outputs": []
    },
    {
      "cell_type": "code",
      "metadata": {
        "id": "SR5KfhIm-5-Q",
        "outputId": "b761c460-b58e-47c8-dcfa-0b25f923dcbe",
        "colab": {
          "base_uri": "https://localhost:8080/",
          "height": 51
        }
      },
      "source": [
        "print (numeric_var)\n",
        "print (cat_var)"
      ],
      "execution_count": null,
      "outputs": [
        {
          "output_type": "stream",
          "text": [
            "['Temperature', 'Fuel_Price', 'MarkDown1', 'MarkDown2', 'MarkDown3', 'MarkDown4', 'MarkDown5', 'CPI', 'Unemployment', 'Size', 'Weekly_Sales']\n",
            "['Store', 'Dept', 'Date', 'IsHoliday', 'Type']\n"
          ],
          "name": "stdout"
        }
      ]
    },
    {
      "cell_type": "markdown",
      "metadata": {
        "id": "DOr1Li3g_9lL"
      },
      "source": [
        "**Remplacement des valeurs catégoriques par des valeurs numériques**"
      ]
    },
    {
      "cell_type": "code",
      "metadata": {
        "id": "QpIb46MYAEHP"
      },
      "source": [
        "from sklearn.preprocessing import LabelEncoder"
      ],
      "execution_count": null,
      "outputs": []
    },
    {
      "cell_type": "code",
      "metadata": {
        "id": "g72T14OoAGIg",
        "outputId": "b5d68e8c-387b-4f59-c559-89f92e4bf7fe",
        "colab": {
          "base_uri": "https://localhost:8080/",
          "height": 119
        }
      },
      "source": [
        "lb_enc = LabelEncoder()\n",
        "data['Dept_code'] = lb_enc.fit_transform(data['Dept']) # Creation d'une nouvelle colonne 'Dept_code' qui prendra les valeurs numériques de 'Dept'\n",
        "data['Store_code'] = lb_enc.fit_transform(data['Store'])\n",
        "data['Type_code'] = lb_enc.fit_transform(data['Type'])\n",
        "\n",
        "data['Dept_code'].head()\n"
      ],
      "execution_count": null,
      "outputs": [
        {
          "output_type": "execute_result",
          "data": {
            "text/plain": [
              "0     0\n",
              "1    10\n",
              "2    21\n",
              "3    32\n",
              "4    43\n",
              "Name: Dept_code, dtype: int64"
            ]
          },
          "metadata": {
            "tags": []
          },
          "execution_count": 183
        }
      ]
    },
    {
      "cell_type": "code",
      "metadata": {
        "id": "fYLlfncsAsOi",
        "outputId": "22bd8f82-d8db-4e3c-d781-96dfcb58ebe5",
        "colab": {
          "base_uri": "https://localhost:8080/",
          "height": 204
        }
      },
      "source": [
        "data.head()"
      ],
      "execution_count": null,
      "outputs": [
        {
          "output_type": "execute_result",
          "data": {
            "text/html": [
              "<div>\n",
              "<style scoped>\n",
              "    .dataframe tbody tr th:only-of-type {\n",
              "        vertical-align: middle;\n",
              "    }\n",
              "\n",
              "    .dataframe tbody tr th {\n",
              "        vertical-align: top;\n",
              "    }\n",
              "\n",
              "    .dataframe thead th {\n",
              "        text-align: right;\n",
              "    }\n",
              "</style>\n",
              "<table border=\"1\" class=\"dataframe\">\n",
              "  <thead>\n",
              "    <tr style=\"text-align: right;\">\n",
              "      <th></th>\n",
              "      <th>Store</th>\n",
              "      <th>Dept</th>\n",
              "      <th>Date</th>\n",
              "      <th>IsHoliday</th>\n",
              "      <th>Temperature</th>\n",
              "      <th>Fuel_Price</th>\n",
              "      <th>MarkDown1</th>\n",
              "      <th>MarkDown2</th>\n",
              "      <th>MarkDown3</th>\n",
              "      <th>MarkDown4</th>\n",
              "      <th>MarkDown5</th>\n",
              "      <th>CPI</th>\n",
              "      <th>Unemployment</th>\n",
              "      <th>Type</th>\n",
              "      <th>Size</th>\n",
              "      <th>Weekly_Sales</th>\n",
              "      <th>Dept_code</th>\n",
              "      <th>Store_code</th>\n",
              "      <th>Type_code</th>\n",
              "    </tr>\n",
              "  </thead>\n",
              "  <tbody>\n",
              "    <tr>\n",
              "      <th>0</th>\n",
              "      <td>Store1</td>\n",
              "      <td>Dept1</td>\n",
              "      <td>2/5/2010</td>\n",
              "      <td>False</td>\n",
              "      <td>42.31</td>\n",
              "      <td>2.572</td>\n",
              "      <td>NaN</td>\n",
              "      <td>NaN</td>\n",
              "      <td>NaN</td>\n",
              "      <td>NaN</td>\n",
              "      <td>NaN</td>\n",
              "      <td>211.096358</td>\n",
              "      <td>8.106</td>\n",
              "      <td>A</td>\n",
              "      <td>151315</td>\n",
              "      <td>24924.50</td>\n",
              "      <td>0</td>\n",
              "      <td>0</td>\n",
              "      <td>0</td>\n",
              "    </tr>\n",
              "    <tr>\n",
              "      <th>1</th>\n",
              "      <td>Store1</td>\n",
              "      <td>Dept2</td>\n",
              "      <td>2/5/2010</td>\n",
              "      <td>False</td>\n",
              "      <td>42.31</td>\n",
              "      <td>2.572</td>\n",
              "      <td>NaN</td>\n",
              "      <td>NaN</td>\n",
              "      <td>NaN</td>\n",
              "      <td>NaN</td>\n",
              "      <td>NaN</td>\n",
              "      <td>211.096358</td>\n",
              "      <td>8.106</td>\n",
              "      <td>A</td>\n",
              "      <td>151315</td>\n",
              "      <td>50605.27</td>\n",
              "      <td>10</td>\n",
              "      <td>0</td>\n",
              "      <td>0</td>\n",
              "    </tr>\n",
              "    <tr>\n",
              "      <th>2</th>\n",
              "      <td>Store1</td>\n",
              "      <td>Dept3</td>\n",
              "      <td>2/5/2010</td>\n",
              "      <td>False</td>\n",
              "      <td>42.31</td>\n",
              "      <td>2.572</td>\n",
              "      <td>NaN</td>\n",
              "      <td>NaN</td>\n",
              "      <td>NaN</td>\n",
              "      <td>NaN</td>\n",
              "      <td>NaN</td>\n",
              "      <td>211.096358</td>\n",
              "      <td>8.106</td>\n",
              "      <td>A</td>\n",
              "      <td>151315</td>\n",
              "      <td>13740.12</td>\n",
              "      <td>21</td>\n",
              "      <td>0</td>\n",
              "      <td>0</td>\n",
              "    </tr>\n",
              "    <tr>\n",
              "      <th>3</th>\n",
              "      <td>Store1</td>\n",
              "      <td>Dept4</td>\n",
              "      <td>2/5/2010</td>\n",
              "      <td>False</td>\n",
              "      <td>42.31</td>\n",
              "      <td>2.572</td>\n",
              "      <td>NaN</td>\n",
              "      <td>NaN</td>\n",
              "      <td>NaN</td>\n",
              "      <td>NaN</td>\n",
              "      <td>NaN</td>\n",
              "      <td>211.096358</td>\n",
              "      <td>8.106</td>\n",
              "      <td>A</td>\n",
              "      <td>151315</td>\n",
              "      <td>39954.04</td>\n",
              "      <td>32</td>\n",
              "      <td>0</td>\n",
              "      <td>0</td>\n",
              "    </tr>\n",
              "    <tr>\n",
              "      <th>4</th>\n",
              "      <td>Store1</td>\n",
              "      <td>Dept5</td>\n",
              "      <td>2/5/2010</td>\n",
              "      <td>False</td>\n",
              "      <td>42.31</td>\n",
              "      <td>2.572</td>\n",
              "      <td>NaN</td>\n",
              "      <td>NaN</td>\n",
              "      <td>NaN</td>\n",
              "      <td>NaN</td>\n",
              "      <td>NaN</td>\n",
              "      <td>211.096358</td>\n",
              "      <td>8.106</td>\n",
              "      <td>A</td>\n",
              "      <td>151315</td>\n",
              "      <td>32229.38</td>\n",
              "      <td>43</td>\n",
              "      <td>0</td>\n",
              "      <td>0</td>\n",
              "    </tr>\n",
              "  </tbody>\n",
              "</table>\n",
              "</div>"
            ],
            "text/plain": [
              "    Store   Dept      Date  ...  Dept_code  Store_code  Type_code\n",
              "0  Store1  Dept1  2/5/2010  ...          0           0          0\n",
              "1  Store1  Dept2  2/5/2010  ...         10           0          0\n",
              "2  Store1  Dept3  2/5/2010  ...         21           0          0\n",
              "3  Store1  Dept4  2/5/2010  ...         32           0          0\n",
              "4  Store1  Dept5  2/5/2010  ...         43           0          0\n",
              "\n",
              "[5 rows x 19 columns]"
            ]
          },
          "metadata": {
            "tags": []
          },
          "execution_count": 184
        }
      ]
    },
    {
      "cell_type": "markdown",
      "metadata": {
        "id": "0dU17lN4Di9C"
      },
      "source": [
        "**Conversion de la colonne 'Date' et création de nouvelles colonnes 'Jour', 'Mois' et 'Année' **"
      ]
    },
    {
      "cell_type": "code",
      "metadata": {
        "id": "xM-tJck9EO1Y",
        "outputId": "c2acc4b8-1c5c-4a65-fdd8-99aaaeccb95b",
        "colab": {
          "base_uri": "https://localhost:8080/",
          "height": 221
        }
      },
      "source": [
        "data['Date'] = pd.to_datetime(data['Date'])\n",
        "data['Date']\n",
        "# On peut voir ci-dessous l'évolution. '02/05/2010' -> '2010-02-05'"
      ],
      "execution_count": null,
      "outputs": [
        {
          "output_type": "execute_result",
          "data": {
            "text/plain": [
              "0        2010-02-05\n",
              "1        2010-02-05\n",
              "2        2010-02-05\n",
              "3        2010-02-05\n",
              "4        2010-02-05\n",
              "            ...    \n",
              "421565   2012-10-26\n",
              "421566   2012-10-26\n",
              "421567   2012-10-26\n",
              "421568   2012-10-26\n",
              "421569   2012-10-26\n",
              "Name: Date, Length: 421570, dtype: datetime64[ns]"
            ]
          },
          "metadata": {
            "tags": []
          },
          "execution_count": 185
        }
      ]
    },
    {
      "cell_type": "code",
      "metadata": {
        "id": "LqtSqWV5EUMB"
      },
      "source": [
        "# Création des nouvelles colonnes \n",
        "data['Date_month'] =data['Date'].dt.month \n",
        "data['Date_year'] =data['Date'].dt.year\n",
        "data['Date_day'] =data['Date'].dt.day"
      ],
      "execution_count": null,
      "outputs": []
    },
    {
      "cell_type": "code",
      "metadata": {
        "id": "ZyV2FohtEqyJ",
        "outputId": "65782c18-9584-42c3-c244-6c6ce27cc3c6",
        "colab": {
          "base_uri": "https://localhost:8080/",
          "height": 289
        }
      },
      "source": [
        "data.head()"
      ],
      "execution_count": null,
      "outputs": [
        {
          "output_type": "execute_result",
          "data": {
            "text/html": [
              "<div>\n",
              "<style scoped>\n",
              "    .dataframe tbody tr th:only-of-type {\n",
              "        vertical-align: middle;\n",
              "    }\n",
              "\n",
              "    .dataframe tbody tr th {\n",
              "        vertical-align: top;\n",
              "    }\n",
              "\n",
              "    .dataframe thead th {\n",
              "        text-align: right;\n",
              "    }\n",
              "</style>\n",
              "<table border=\"1\" class=\"dataframe\">\n",
              "  <thead>\n",
              "    <tr style=\"text-align: right;\">\n",
              "      <th></th>\n",
              "      <th>Store</th>\n",
              "      <th>Dept</th>\n",
              "      <th>Date</th>\n",
              "      <th>IsHoliday</th>\n",
              "      <th>Temperature</th>\n",
              "      <th>Fuel_Price</th>\n",
              "      <th>MarkDown1</th>\n",
              "      <th>MarkDown2</th>\n",
              "      <th>MarkDown3</th>\n",
              "      <th>MarkDown4</th>\n",
              "      <th>MarkDown5</th>\n",
              "      <th>CPI</th>\n",
              "      <th>Unemployment</th>\n",
              "      <th>Type</th>\n",
              "      <th>Size</th>\n",
              "      <th>Weekly_Sales</th>\n",
              "      <th>Dept_code</th>\n",
              "      <th>Store_code</th>\n",
              "      <th>Type_code</th>\n",
              "      <th>Date_month</th>\n",
              "      <th>Date_year</th>\n",
              "      <th>Date_day</th>\n",
              "    </tr>\n",
              "  </thead>\n",
              "  <tbody>\n",
              "    <tr>\n",
              "      <th>0</th>\n",
              "      <td>Store1</td>\n",
              "      <td>Dept1</td>\n",
              "      <td>2010-02-05</td>\n",
              "      <td>False</td>\n",
              "      <td>42.31</td>\n",
              "      <td>2.572</td>\n",
              "      <td>NaN</td>\n",
              "      <td>NaN</td>\n",
              "      <td>NaN</td>\n",
              "      <td>NaN</td>\n",
              "      <td>NaN</td>\n",
              "      <td>211.096358</td>\n",
              "      <td>8.106</td>\n",
              "      <td>A</td>\n",
              "      <td>151315</td>\n",
              "      <td>24924.50</td>\n",
              "      <td>0</td>\n",
              "      <td>0</td>\n",
              "      <td>0</td>\n",
              "      <td>2</td>\n",
              "      <td>2010</td>\n",
              "      <td>5</td>\n",
              "    </tr>\n",
              "    <tr>\n",
              "      <th>1</th>\n",
              "      <td>Store1</td>\n",
              "      <td>Dept2</td>\n",
              "      <td>2010-02-05</td>\n",
              "      <td>False</td>\n",
              "      <td>42.31</td>\n",
              "      <td>2.572</td>\n",
              "      <td>NaN</td>\n",
              "      <td>NaN</td>\n",
              "      <td>NaN</td>\n",
              "      <td>NaN</td>\n",
              "      <td>NaN</td>\n",
              "      <td>211.096358</td>\n",
              "      <td>8.106</td>\n",
              "      <td>A</td>\n",
              "      <td>151315</td>\n",
              "      <td>50605.27</td>\n",
              "      <td>10</td>\n",
              "      <td>0</td>\n",
              "      <td>0</td>\n",
              "      <td>2</td>\n",
              "      <td>2010</td>\n",
              "      <td>5</td>\n",
              "    </tr>\n",
              "    <tr>\n",
              "      <th>2</th>\n",
              "      <td>Store1</td>\n",
              "      <td>Dept3</td>\n",
              "      <td>2010-02-05</td>\n",
              "      <td>False</td>\n",
              "      <td>42.31</td>\n",
              "      <td>2.572</td>\n",
              "      <td>NaN</td>\n",
              "      <td>NaN</td>\n",
              "      <td>NaN</td>\n",
              "      <td>NaN</td>\n",
              "      <td>NaN</td>\n",
              "      <td>211.096358</td>\n",
              "      <td>8.106</td>\n",
              "      <td>A</td>\n",
              "      <td>151315</td>\n",
              "      <td>13740.12</td>\n",
              "      <td>21</td>\n",
              "      <td>0</td>\n",
              "      <td>0</td>\n",
              "      <td>2</td>\n",
              "      <td>2010</td>\n",
              "      <td>5</td>\n",
              "    </tr>\n",
              "    <tr>\n",
              "      <th>3</th>\n",
              "      <td>Store1</td>\n",
              "      <td>Dept4</td>\n",
              "      <td>2010-02-05</td>\n",
              "      <td>False</td>\n",
              "      <td>42.31</td>\n",
              "      <td>2.572</td>\n",
              "      <td>NaN</td>\n",
              "      <td>NaN</td>\n",
              "      <td>NaN</td>\n",
              "      <td>NaN</td>\n",
              "      <td>NaN</td>\n",
              "      <td>211.096358</td>\n",
              "      <td>8.106</td>\n",
              "      <td>A</td>\n",
              "      <td>151315</td>\n",
              "      <td>39954.04</td>\n",
              "      <td>32</td>\n",
              "      <td>0</td>\n",
              "      <td>0</td>\n",
              "      <td>2</td>\n",
              "      <td>2010</td>\n",
              "      <td>5</td>\n",
              "    </tr>\n",
              "    <tr>\n",
              "      <th>4</th>\n",
              "      <td>Store1</td>\n",
              "      <td>Dept5</td>\n",
              "      <td>2010-02-05</td>\n",
              "      <td>False</td>\n",
              "      <td>42.31</td>\n",
              "      <td>2.572</td>\n",
              "      <td>NaN</td>\n",
              "      <td>NaN</td>\n",
              "      <td>NaN</td>\n",
              "      <td>NaN</td>\n",
              "      <td>NaN</td>\n",
              "      <td>211.096358</td>\n",
              "      <td>8.106</td>\n",
              "      <td>A</td>\n",
              "      <td>151315</td>\n",
              "      <td>32229.38</td>\n",
              "      <td>43</td>\n",
              "      <td>0</td>\n",
              "      <td>0</td>\n",
              "      <td>2</td>\n",
              "      <td>2010</td>\n",
              "      <td>5</td>\n",
              "    </tr>\n",
              "  </tbody>\n",
              "</table>\n",
              "</div>"
            ],
            "text/plain": [
              "    Store   Dept       Date  ...  Date_month  Date_year  Date_day\n",
              "0  Store1  Dept1 2010-02-05  ...           2       2010         5\n",
              "1  Store1  Dept2 2010-02-05  ...           2       2010         5\n",
              "2  Store1  Dept3 2010-02-05  ...           2       2010         5\n",
              "3  Store1  Dept4 2010-02-05  ...           2       2010         5\n",
              "4  Store1  Dept5 2010-02-05  ...           2       2010         5\n",
              "\n",
              "[5 rows x 22 columns]"
            ]
          },
          "metadata": {
            "tags": []
          },
          "execution_count": 187
        }
      ]
    },
    {
      "cell_type": "markdown",
      "metadata": {
        "id": "t8ViPpC4_Hbp"
      },
      "source": [
        "**Checking des valeurs manquantes**"
      ]
    },
    {
      "cell_type": "code",
      "metadata": {
        "id": "d7DFLfMd_PKD",
        "outputId": "fb2ad93c-dc45-4dd1-e1fa-cc0883bf503a",
        "colab": {
          "base_uri": "https://localhost:8080/",
          "height": 408
        }
      },
      "source": [
        "data.isnull().sum()"
      ],
      "execution_count": null,
      "outputs": [
        {
          "output_type": "execute_result",
          "data": {
            "text/plain": [
              "Store                0\n",
              "Dept                 0\n",
              "Date                 0\n",
              "IsHoliday            0\n",
              "Temperature          0\n",
              "Fuel_Price           0\n",
              "MarkDown1       270889\n",
              "MarkDown2       310322\n",
              "MarkDown3       284479\n",
              "MarkDown4       286603\n",
              "MarkDown5       270138\n",
              "CPI                  0\n",
              "Unemployment         0\n",
              "Type                 0\n",
              "Size                 0\n",
              "Weekly_Sales         0\n",
              "Dept_code            0\n",
              "Store_code           0\n",
              "Type_code            0\n",
              "Date_month           0\n",
              "Date_year            0\n",
              "Date_day             0\n",
              "dtype: int64"
            ]
          },
          "metadata": {
            "tags": []
          },
          "execution_count": 188
        }
      ]
    },
    {
      "cell_type": "markdown",
      "metadata": {
        "id": "RdT3rOT7_ZVZ"
      },
      "source": [
        "D'après le résultat ci-dessus, seulement les MarkDown possèdent des valeurs manquantes.\n",
        "Ex: pour MarkDown1, on peut voir qu'il y a un total de 270 889 valeurs Null (NA / NaN)\n"
      ]
    },
    {
      "cell_type": "markdown",
      "metadata": {
        "id": "izsVi1OF_vDv"
      },
      "source": [
        "**Remplir les valeurs manquantes avec des 0**"
      ]
    },
    {
      "cell_type": "code",
      "metadata": {
        "id": "crGtQ-kP_0-E"
      },
      "source": [
        "data.fillna(0,inplace= True) \n",
        "# fillna remplace toutes les valeurs 'Na' ou 'NaN' dans les data par la valeur qu'on applique\n",
        "# inplace remplace directement dans 'data' (sans ca, la modif n'est pas définitive)"
      ],
      "execution_count": null,
      "outputs": []
    },
    {
      "cell_type": "code",
      "metadata": {
        "id": "6nuGp4mHAemW",
        "outputId": "1ec42ec0-eda6-40b6-c84a-4a3aca5c4e8f",
        "colab": {
          "base_uri": "https://localhost:8080/",
          "height": 408
        }
      },
      "source": [
        "# check up pour voir si la correction s'est bien faite.\n",
        "data.isnull().sum()"
      ],
      "execution_count": null,
      "outputs": [
        {
          "output_type": "execute_result",
          "data": {
            "text/plain": [
              "Store           0\n",
              "Dept            0\n",
              "Date            0\n",
              "IsHoliday       0\n",
              "Temperature     0\n",
              "Fuel_Price      0\n",
              "MarkDown1       0\n",
              "MarkDown2       0\n",
              "MarkDown3       0\n",
              "MarkDown4       0\n",
              "MarkDown5       0\n",
              "CPI             0\n",
              "Unemployment    0\n",
              "Type            0\n",
              "Size            0\n",
              "Weekly_Sales    0\n",
              "Dept_code       0\n",
              "Store_code      0\n",
              "Type_code       0\n",
              "Date_month      0\n",
              "Date_year       0\n",
              "Date_day        0\n",
              "dtype: int64"
            ]
          },
          "metadata": {
            "tags": []
          },
          "execution_count": 190
        }
      ]
    },
    {
      "cell_type": "markdown",
      "metadata": {
        "id": "M9uasSggA6Rd"
      },
      "source": [
        "**Visualisation de la matrice de corrélation pour déterminer les facteurs les plus corréler au weekly sales**"
      ]
    },
    {
      "cell_type": "code",
      "metadata": {
        "id": "pgmpSI_hBBo3"
      },
      "source": [
        "import seaborn as sns"
      ],
      "execution_count": null,
      "outputs": []
    },
    {
      "cell_type": "code",
      "metadata": {
        "id": "RgJ5XqZfBITc",
        "outputId": "3b3bc572-6416-4f84-f1af-24b2b6f6e003",
        "colab": {
          "base_uri": "https://localhost:8080/",
          "height": 788
        }
      },
      "source": [
        "f, ax = plt.subplots(figsize=(15, 12))\n",
        "corr = data.corr()\n",
        "sns.heatmap(corr, mask=np.zeros_like(corr, dtype=np.bool), cmap=sns.diverging_palette(220, 10, as_cmap=True),\n",
        "            square=True, ax=ax)"
      ],
      "execution_count": null,
      "outputs": [
        {
          "output_type": "execute_result",
          "data": {
            "text/plain": [
              "<matplotlib.axes._subplots.AxesSubplot at 0x7f82e51c8dd8>"
            ]
          },
          "metadata": {
            "tags": []
          },
          "execution_count": 192
        },
        {
          "output_type": "display_data",
          "data": {
            "image/png": "[encoded data removed]",
            "text/plain": [
              "<Figure size 1080x864 with 2 Axes>"
            ]
          },
          "metadata": {
            "tags": [],
            "needs_background": "light"
          }
        }
      ]
    },
    {
      "cell_type": "markdown",
      "metadata": {
        "id": "aBCIPI3IB6oZ"
      },
      "source": [
        "D'après la Matrice de Corrélation ci-dessus, on déduit que les Weekly_Sales sont les plus affectées par :                                    \n",
        "'Size' -> taille du magasin                                                                     \n",
        "'Dept_code' -> valeur numérique de Dept, département du magasin."
      ]
    },
    {
      "cell_type": "markdown",
      "metadata": {
        "id": "m5DXKbB0Luv6"
      },
      "source": [
        "Notre analyse portera sur l'attribut 'Size', qui me semble plus objectif que le département."
      ]
    },
    {
      "cell_type": "markdown",
      "metadata": {
        "id": "M0DZvnJ2FtS5"
      },
      "source": [
        "**Affichage des weekly sales**"
      ]
    },
    {
      "cell_type": "code",
      "metadata": {
        "id": "VhtZSrYTFxqB",
        "outputId": "079bfc2f-f823-4dc8-82d8-208a2792028e",
        "colab": {
          "base_uri": "https://localhost:8080/",
          "height": 580
        }
      },
      "source": [
        "f,ax = plt.subplots(figsize=(10, 8))\n",
        "sns.distplot(data.Weekly_Sales,ax=ax)"
      ],
      "execution_count": null,
      "outputs": [
        {
          "output_type": "stream",
          "text": [
            "/usr/local/lib/python3.6/dist-packages/seaborn/distributions.py:2551: FutureWarning: `distplot` is a deprecated function and will be removed in a future version. Please adapt your code to use either `displot` (a figure-level function with similar flexibility) or `histplot` (an axes-level function for histograms).\n",
            "  warnings.warn(msg, FutureWarning)\n"
          ],
          "name": "stderr"
        },
        {
          "output_type": "execute_result",
          "data": {
            "text/plain": [
              "<matplotlib.axes._subplots.AxesSubplot at 0x7f82e5a31358>"
            ]
          },
          "metadata": {
            "tags": []
          },
          "execution_count": 193
        },
        {
          "output_type": "display_data",
          "data": {
            "image/png": "[encoded data removed]",
            "text/plain": [
              "<Figure size 720x576 with 1 Axes>"
            ]
          },
          "metadata": {
            "tags": [],
            "needs_background": "light"
          }
        }
      ]
    },
    {
      "cell_type": "markdown",
      "metadata": {
        "id": "cNruvpXSGIT4"
      },
      "source": [
        "**Comparaison Weekly Sales VS Size**"
      ]
    },
    {
      "cell_type": "code",
      "metadata": {
        "id": "_fxTwVM4GNCQ",
        "outputId": "78ed0cef-abdc-4ccb-ae04-717181736e51",
        "colab": {
          "base_uri": "https://localhost:8080/",
          "height": 1000
        }
      },
      "source": [
        "f,ax = plt.subplots(figsize=(10, 8))\n",
        "data.plot(kind='line', x='Weekly_Sales', y='Size', alpha=1.5,ax=ax)\n",
        "\n",
        "g,bx = plt.subplots(figsize=(10, 8))\n",
        "sns.boxplot(x=data['Weekly_Sales'],ax=bx)\n",
        "\n",
        "fig, ax = plt.subplots(figsize=(10,6))\n",
        "ax.scatter(data['Weekly_Sales'], data['Size'])\n",
        "ax.set_xlabel('Weekly Sales')\n",
        "ax.set_ylabel('Size')\n",
        "plt.show()"
      ],
      "execution_count": null,
      "outputs": [
        {
          "output_type": "display_data",
          "data": {
            "image/png": "[encoded data removed]",
            "text/plain": [
              "<Figure size 720x576 with 1 Axes>"
            ]
          },
          "metadata": {
            "tags": [],
            "needs_background": "light"
          }
        },
        {
          "output_type": "display_data",
          "data": {
            "image/png": "[encoded data removed]",
            "text/plain": [
              "<Figure size 720x576 with 1 Axes>"
            ]
          },
          "metadata": {
            "tags": [],
            "needs_background": "light"
          }
        },
        {
          "output_type": "display_data",
          "data": {
            "image/png": "[encoded data removed]",
            "text/plain": [
              "<Figure size 720x432 with 1 Axes>"
            ]
          },
          "metadata": {
            "tags": [],
            "needs_background": "light"
          }
        }
      ]
    },
    {
      "cell_type": "markdown",
      "metadata": {
        "id": "_oJFf5HHJhHZ"
      },
      "source": [
        "D'après les graphes ci-dessus, on peut voir que le plus gros de data en \"Weekly Sales\" sont regroupées avant 200 000, le rest est négligeable voir abérrant.\n",
        "Par la suite, nous nous focuserons sur les data < 100 000."
      ]
    },
    {
      "cell_type": "markdown",
      "metadata": {
        "id": "v2rcY2GUKEAN"
      },
      "source": [
        "**Traitement des données - Suppression de données non pertinentes**"
      ]
    },
    {
      "cell_type": "code",
      "metadata": {
        "id": "6_NvOxwkKC-_"
      },
      "source": [
        "data.Weekly_Sales=np.where(data.Weekly_Sales>200000, 200000,data.Weekly_Sales)\n"
      ],
      "execution_count": null,
      "outputs": []
    },
    {
      "cell_type": "code",
      "metadata": {
        "id": "Dec0Ha_FKe3O",
        "outputId": "b1a145b7-d80e-4d5b-c8ae-a80e564b66c1",
        "colab": {
          "base_uri": "https://localhost:8080/",
          "height": 317
        }
      },
      "source": [
        "data.describe()\n",
        "# On peut vérifier dans la colonne Weekly_Sales"
      ],
      "execution_count": null,
      "outputs": [
        {
          "output_type": "execute_result",
          "data": {
            "text/html": [
              "<div>\n",
              "<style scoped>\n",
              "    .dataframe tbody tr th:only-of-type {\n",
              "        vertical-align: middle;\n",
              "    }\n",
              "\n",
              "    .dataframe tbody tr th {\n",
              "        vertical-align: top;\n",
              "    }\n",
              "\n",
              "    .dataframe thead th {\n",
              "        text-align: right;\n",
              "    }\n",
              "</style>\n",
              "<table border=\"1\" class=\"dataframe\">\n",
              "  <thead>\n",
              "    <tr style=\"text-align: right;\">\n",
              "      <th></th>\n",
              "      <th>Temperature</th>\n",
              "      <th>Fuel_Price</th>\n",
              "      <th>MarkDown1</th>\n",
              "      <th>MarkDown2</th>\n",
              "      <th>MarkDown3</th>\n",
              "      <th>MarkDown4</th>\n",
              "      <th>MarkDown5</th>\n",
              "      <th>CPI</th>\n",
              "      <th>Unemployment</th>\n",
              "      <th>Size</th>\n",
              "      <th>Weekly_Sales</th>\n",
              "      <th>Dept_code</th>\n",
              "      <th>Store_code</th>\n",
              "      <th>Type_code</th>\n",
              "      <th>Date_month</th>\n",
              "      <th>Date_year</th>\n",
              "      <th>Date_day</th>\n",
              "    </tr>\n",
              "  </thead>\n",
              "  <tbody>\n",
              "    <tr>\n",
              "      <th>count</th>\n",
              "      <td>421570.000000</td>\n",
              "      <td>421570.000000</td>\n",
              "      <td>421570.000000</td>\n",
              "      <td>421570.000000</td>\n",
              "      <td>421570.000000</td>\n",
              "      <td>421570.000000</td>\n",
              "      <td>421570.000000</td>\n",
              "      <td>421570.000000</td>\n",
              "      <td>421570.000000</td>\n",
              "      <td>421570.000000</td>\n",
              "      <td>421570.000000</td>\n",
              "      <td>421570.000000</td>\n",
              "      <td>421570.000000</td>\n",
              "      <td>421570.000000</td>\n",
              "      <td>421570.000000</td>\n",
              "      <td>421570.000000</td>\n",
              "      <td>421570.000000</td>\n",
              "    </tr>\n",
              "    <tr>\n",
              "      <th>mean</th>\n",
              "      <td>60.090059</td>\n",
              "      <td>3.361027</td>\n",
              "      <td>2590.074819</td>\n",
              "      <td>879.974298</td>\n",
              "      <td>468.087665</td>\n",
              "      <td>1083.132268</td>\n",
              "      <td>1662.772385</td>\n",
              "      <td>171.201947</td>\n",
              "      <td>7.960289</td>\n",
              "      <td>136727.915739</td>\n",
              "      <td>15956.287893</td>\n",
              "      <td>39.093652</td>\n",
              "      <td>21.336200</td>\n",
              "      <td>0.589912</td>\n",
              "      <td>6.449510</td>\n",
              "      <td>2010.968591</td>\n",
              "      <td>15.673131</td>\n",
              "    </tr>\n",
              "    <tr>\n",
              "      <th>std</th>\n",
              "      <td>18.447931</td>\n",
              "      <td>0.458515</td>\n",
              "      <td>6052.385934</td>\n",
              "      <td>5084.538801</td>\n",
              "      <td>5528.873453</td>\n",
              "      <td>3894.529945</td>\n",
              "      <td>4207.629321</td>\n",
              "      <td>39.159276</td>\n",
              "      <td>1.863296</td>\n",
              "      <td>60980.583328</td>\n",
              "      <td>22409.488712</td>\n",
              "      <td>24.460010</td>\n",
              "      <td>13.084379</td>\n",
              "      <td>0.666337</td>\n",
              "      <td>3.243217</td>\n",
              "      <td>0.796876</td>\n",
              "      <td>8.753549</td>\n",
              "    </tr>\n",
              "    <tr>\n",
              "      <th>min</th>\n",
              "      <td>-2.060000</td>\n",
              "      <td>2.472000</td>\n",
              "      <td>0.000000</td>\n",
              "      <td>-265.760000</td>\n",
              "      <td>-29.100000</td>\n",
              "      <td>0.000000</td>\n",
              "      <td>0.000000</td>\n",
              "      <td>126.064000</td>\n",
              "      <td>3.879000</td>\n",
              "      <td>34875.000000</td>\n",
              "      <td>-4988.940000</td>\n",
              "      <td>0.000000</td>\n",
              "      <td>0.000000</td>\n",
              "      <td>0.000000</td>\n",
              "      <td>1.000000</td>\n",
              "      <td>2010.000000</td>\n",
              "      <td>1.000000</td>\n",
              "    </tr>\n",
              "    <tr>\n",
              "      <th>25%</th>\n",
              "      <td>46.680000</td>\n",
              "      <td>2.933000</td>\n",
              "      <td>0.000000</td>\n",
              "      <td>0.000000</td>\n",
              "      <td>0.000000</td>\n",
              "      <td>0.000000</td>\n",
              "      <td>0.000000</td>\n",
              "      <td>132.022667</td>\n",
              "      <td>6.891000</td>\n",
              "      <td>93638.000000</td>\n",
              "      <td>2079.650000</td>\n",
              "      <td>17.000000</td>\n",
              "      <td>10.000000</td>\n",
              "      <td>0.000000</td>\n",
              "      <td>4.000000</td>\n",
              "      <td>2010.000000</td>\n",
              "      <td>8.000000</td>\n",
              "    </tr>\n",
              "    <tr>\n",
              "      <th>50%</th>\n",
              "      <td>62.090000</td>\n",
              "      <td>3.452000</td>\n",
              "      <td>0.000000</td>\n",
              "      <td>0.000000</td>\n",
              "      <td>0.000000</td>\n",
              "      <td>0.000000</td>\n",
              "      <td>0.000000</td>\n",
              "      <td>182.318780</td>\n",
              "      <td>7.866000</td>\n",
              "      <td>140167.000000</td>\n",
              "      <td>7612.030000</td>\n",
              "      <td>38.000000</td>\n",
              "      <td>21.000000</td>\n",
              "      <td>0.000000</td>\n",
              "      <td>6.000000</td>\n",
              "      <td>2011.000000</td>\n",
              "      <td>16.000000</td>\n",
              "    </tr>\n",
              "    <tr>\n",
              "      <th>75%</th>\n",
              "      <td>74.280000</td>\n",
              "      <td>3.738000</td>\n",
              "      <td>2809.050000</td>\n",
              "      <td>2.200000</td>\n",
              "      <td>4.540000</td>\n",
              "      <td>425.290000</td>\n",
              "      <td>2168.040000</td>\n",
              "      <td>212.416993</td>\n",
              "      <td>8.572000</td>\n",
              "      <td>202505.000000</td>\n",
              "      <td>20205.852500</td>\n",
              "      <td>62.000000</td>\n",
              "      <td>33.000000</td>\n",
              "      <td>1.000000</td>\n",
              "      <td>9.000000</td>\n",
              "      <td>2012.000000</td>\n",
              "      <td>23.000000</td>\n",
              "    </tr>\n",
              "    <tr>\n",
              "      <th>max</th>\n",
              "      <td>100.140000</td>\n",
              "      <td>4.468000</td>\n",
              "      <td>88646.760000</td>\n",
              "      <td>104519.540000</td>\n",
              "      <td>141630.610000</td>\n",
              "      <td>67474.850000</td>\n",
              "      <td>108519.280000</td>\n",
              "      <td>227.232807</td>\n",
              "      <td>14.313000</td>\n",
              "      <td>219622.000000</td>\n",
              "      <td>200000.000000</td>\n",
              "      <td>80.000000</td>\n",
              "      <td>44.000000</td>\n",
              "      <td>2.000000</td>\n",
              "      <td>12.000000</td>\n",
              "      <td>2012.000000</td>\n",
              "      <td>31.000000</td>\n",
              "    </tr>\n",
              "  </tbody>\n",
              "</table>\n",
              "</div>"
            ],
            "text/plain": [
              "         Temperature     Fuel_Price  ...      Date_year       Date_day\n",
              "count  421570.000000  421570.000000  ...  421570.000000  421570.000000\n",
              "mean       60.090059       3.361027  ...    2010.968591      15.673131\n",
              "std        18.447931       0.458515  ...       0.796876       8.753549\n",
              "min        -2.060000       2.472000  ...    2010.000000       1.000000\n",
              "25%        46.680000       2.933000  ...    2010.000000       8.000000\n",
              "50%        62.090000       3.452000  ...    2011.000000      16.000000\n",
              "75%        74.280000       3.738000  ...    2012.000000      23.000000\n",
              "max       100.140000       4.468000  ...    2012.000000      31.000000\n",
              "\n",
              "[8 rows x 17 columns]"
            ]
          },
          "metadata": {
            "tags": []
          },
          "execution_count": 196
        }
      ]
    },
    {
      "cell_type": "code",
      "metadata": {
        "id": "KnX41GVJMFar",
        "outputId": "7baeffcf-67da-44e4-a3aa-10049a5127a0",
        "colab": {
          "base_uri": "https://localhost:8080/",
          "height": 504
        }
      },
      "source": [
        "f,ax = plt.subplots(figsize=(10, 8))\n",
        "data.Weekly_Sales.plot.hist(bins=25,ax=ax)"
      ],
      "execution_count": null,
      "outputs": [
        {
          "output_type": "execute_result",
          "data": {
            "text/plain": [
              "<matplotlib.axes._subplots.AxesSubplot at 0x7f82dbb54400>"
            ]
          },
          "metadata": {
            "tags": []
          },
          "execution_count": 197
        },
        {
          "output_type": "display_data",
          "data": {
            "image/png": "[encoded data removed]",
            "text/plain": [
              "<Figure size 720x576 with 1 Axes>"
            ]
          },
          "metadata": {
            "tags": [],
            "needs_background": "light"
          }
        }
      ]
    },
    {
      "cell_type": "markdown",
      "metadata": {
        "id": "UGo1CIMbMOs5"
      },
      "source": [
        "D'apres les resultats ci dessus, on peut, pour encore plus de précisions, supprimer les data > 100 000"
      ]
    },
    {
      "cell_type": "code",
      "metadata": {
        "id": "VYUW2tugMgQ4"
      },
      "source": [
        "data.Weekly_Sales=np.where(data.Weekly_Sales>100000, 100000,data.Weekly_Sales)"
      ],
      "execution_count": null,
      "outputs": []
    },
    {
      "cell_type": "code",
      "metadata": {
        "id": "bj_FIqrjMi7p",
        "outputId": "79f9a573-d326-4db7-db35-4cfab1b1d48f",
        "colab": {
          "base_uri": "https://localhost:8080/",
          "height": 500
        }
      },
      "source": [
        "f,ax = plt.subplots(figsize=(10, 8))\n",
        "data.Weekly_Sales.plot.hist(bins=25,ax=ax)"
      ],
      "execution_count": null,
      "outputs": [
        {
          "output_type": "execute_result",
          "data": {
            "text/plain": [
              "<matplotlib.axes._subplots.AxesSubplot at 0x7f82db9b0780>"
            ]
          },
          "metadata": {
            "tags": []
          },
          "execution_count": 199
        },
        {
          "output_type": "display_data",
          "data": {
            "image/png": "[encoded data removed]",
            "text/plain": [
              "<Figure size 720x576 with 1 Axes>"
            ]
          },
          "metadata": {
            "tags": [],
            "needs_background": "light"
          }
        }
      ]
    },
    {
      "cell_type": "code",
      "metadata": {
        "id": "fIb8923vPEhW",
        "outputId": "1d442cdc-7717-4e56-9876-f69919291a08",
        "colab": {
          "base_uri": "https://localhost:8080/",
          "height": 510
        }
      },
      "source": [
        "data.info()\n"
      ],
      "execution_count": null,
      "outputs": [
        {
          "output_type": "stream",
          "text": [
            "<class 'pandas.core.frame.DataFrame'>\n",
            "RangeIndex: 421570 entries, 0 to 421569\n",
            "Data columns (total 22 columns):\n",
            " #   Column        Non-Null Count   Dtype         \n",
            "---  ------        --------------   -----         \n",
            " 0   Store         421570 non-null  object        \n",
            " 1   Dept          421570 non-null  object        \n",
            " 2   Date          421570 non-null  datetime64[ns]\n",
            " 3   IsHoliday     421570 non-null  bool          \n",
            " 4   Temperature   421570 non-null  float64       \n",
            " 5   Fuel_Price    421570 non-null  float64       \n",
            " 6   MarkDown1     421570 non-null  float64       \n",
            " 7   MarkDown2     421570 non-null  float64       \n",
            " 8   MarkDown3     421570 non-null  float64       \n",
            " 9   MarkDown4     421570 non-null  float64       \n",
            " 10  MarkDown5     421570 non-null  float64       \n",
            " 11  CPI           421570 non-null  float64       \n",
            " 12  Unemployment  421570 non-null  float64       \n",
            " 13  Type          421570 non-null  object        \n",
            " 14  Size          421570 non-null  int64         \n",
            " 15  Weekly_Sales  421570 non-null  float64       \n",
            " 16  Dept_code     421570 non-null  int64         \n",
            " 17  Store_code    421570 non-null  int64         \n",
            " 18  Type_code     421570 non-null  int64         \n",
            " 19  Date_month    421570 non-null  int64         \n",
            " 20  Date_year     421570 non-null  int64         \n",
            " 21  Date_day      421570 non-null  int64         \n",
            "dtypes: bool(1), datetime64[ns](1), float64(10), int64(7), object(3)\n",
            "memory usage: 67.9+ MB\n"
          ],
          "name": "stdout"
        }
      ]
    },
    {
      "cell_type": "markdown",
      "metadata": {
        "id": "r-qFloitPIGx"
      },
      "source": [
        "**Correction ou Suppression des Dtype non numeric**"
      ]
    },
    {
      "cell_type": "code",
      "metadata": {
        "id": "2Tf9tLOePN7g"
      },
      "source": [
        "type_mapping = {False: 0, True: 1}\n",
        "data['IsHoliday'] = data['IsHoliday'].map(type_mapping)"
      ],
      "execution_count": null,
      "outputs": []
    },
    {
      "cell_type": "code",
      "metadata": {
        "id": "b-GJt61yPaiJ"
      },
      "source": [
        "data.drop(['Store','Dept','Date','Type'],axis=1,inplace=True)"
      ],
      "execution_count": null,
      "outputs": []
    },
    {
      "cell_type": "code",
      "metadata": {
        "id": "ABjspj2tPPbw",
        "outputId": "8b1cfba9-4b27-4065-c9dd-663171cb83d2",
        "colab": {
          "base_uri": "https://localhost:8080/",
          "height": 442
        }
      },
      "source": [
        "data.info()"
      ],
      "execution_count": null,
      "outputs": [
        {
          "output_type": "stream",
          "text": [
            "<class 'pandas.core.frame.DataFrame'>\n",
            "RangeIndex: 421570 entries, 0 to 421569\n",
            "Data columns (total 18 columns):\n",
            " #   Column        Non-Null Count   Dtype  \n",
            "---  ------        --------------   -----  \n",
            " 0   IsHoliday     421570 non-null  int64  \n",
            " 1   Temperature   421570 non-null  float64\n",
            " 2   Fuel_Price    421570 non-null  float64\n",
            " 3   MarkDown1     421570 non-null  float64\n",
            " 4   MarkDown2     421570 non-null  float64\n",
            " 5   MarkDown3     421570 non-null  float64\n",
            " 6   MarkDown4     421570 non-null  float64\n",
            " 7   MarkDown5     421570 non-null  float64\n",
            " 8   CPI           421570 non-null  float64\n",
            " 9   Unemployment  421570 non-null  float64\n",
            " 10  Size          421570 non-null  int64  \n",
            " 11  Weekly_Sales  421570 non-null  float64\n",
            " 12  Dept_code     421570 non-null  int64  \n",
            " 13  Store_code    421570 non-null  int64  \n",
            " 14  Type_code     421570 non-null  int64  \n",
            " 15  Date_month    421570 non-null  int64  \n",
            " 16  Date_year     421570 non-null  int64  \n",
            " 17  Date_day      421570 non-null  int64  \n",
            "dtypes: float64(10), int64(8)\n",
            "memory usage: 57.9 MB\n"
          ],
          "name": "stdout"
        }
      ]
    },
    {
      "cell_type": "markdown",
      "metadata": {
        "id": "Gj1vxIbyPyai"
      },
      "source": [
        "On peut voir ci dessus que toutes les valeurs categoriques ont été supprimées ou corrigées."
      ]
    },
    {
      "cell_type": "markdown",
      "metadata": {
        "id": "ngy4ZjGjFbXZ"
      },
      "source": [
        "# **Création des modèles de prédiction**"
      ]
    },
    {
      "cell_type": "markdown",
      "metadata": {
        "id": "C-n__pr4Nmsw"
      },
      "source": [
        "**Séparation des données - Phase 1 : Splitting Train / Test**"
      ]
    },
    {
      "cell_type": "code",
      "metadata": {
        "id": "qbtqjXmDNu38"
      },
      "source": [
        "from sklearn.model_selection import train_test_split"
      ],
      "execution_count": null,
      "outputs": []
    },
    {
      "cell_type": "code",
      "metadata": {
        "id": "piVBNOT8OsmY",
        "outputId": "90cc88f8-fb30-44fd-8c78-c4bf5111455e",
        "colab": {
          "base_uri": "https://localhost:8080/",
          "height": 204
        }
      },
      "source": [
        "data.head()"
      ],
      "execution_count": null,
      "outputs": [
        {
          "output_type": "execute_result",
          "data": {
            "text/html": [
              "<div>\n",
              "<style scoped>\n",
              "    .dataframe tbody tr th:only-of-type {\n",
              "        vertical-align: middle;\n",
              "    }\n",
              "\n",
              "    .dataframe tbody tr th {\n",
              "        vertical-align: top;\n",
              "    }\n",
              "\n",
              "    .dataframe thead th {\n",
              "        text-align: right;\n",
              "    }\n",
              "</style>\n",
              "<table border=\"1\" class=\"dataframe\">\n",
              "  <thead>\n",
              "    <tr style=\"text-align: right;\">\n",
              "      <th></th>\n",
              "      <th>IsHoliday</th>\n",
              "      <th>Temperature</th>\n",
              "      <th>Fuel_Price</th>\n",
              "      <th>MarkDown1</th>\n",
              "      <th>MarkDown2</th>\n",
              "      <th>MarkDown3</th>\n",
              "      <th>MarkDown4</th>\n",
              "      <th>MarkDown5</th>\n",
              "      <th>CPI</th>\n",
              "      <th>Unemployment</th>\n",
              "      <th>Size</th>\n",
              "      <th>Weekly_Sales</th>\n",
              "      <th>Dept_code</th>\n",
              "      <th>Store_code</th>\n",
              "      <th>Type_code</th>\n",
              "      <th>Date_month</th>\n",
              "      <th>Date_year</th>\n",
              "      <th>Date_day</th>\n",
              "    </tr>\n",
              "  </thead>\n",
              "  <tbody>\n",
              "    <tr>\n",
              "      <th>0</th>\n",
              "      <td>0</td>\n",
              "      <td>42.31</td>\n",
              "      <td>2.572</td>\n",
              "      <td>0.0</td>\n",
              "      <td>0.0</td>\n",
              "      <td>0.0</td>\n",
              "      <td>0.0</td>\n",
              "      <td>0.0</td>\n",
              "      <td>211.096358</td>\n",
              "      <td>8.106</td>\n",
              "      <td>151315</td>\n",
              "      <td>24924.50</td>\n",
              "      <td>0</td>\n",
              "      <td>0</td>\n",
              "      <td>0</td>\n",
              "      <td>2</td>\n",
              "      <td>2010</td>\n",
              "      <td>5</td>\n",
              "    </tr>\n",
              "    <tr>\n",
              "      <th>1</th>\n",
              "      <td>0</td>\n",
              "      <td>42.31</td>\n",
              "      <td>2.572</td>\n",
              "      <td>0.0</td>\n",
              "      <td>0.0</td>\n",
              "      <td>0.0</td>\n",
              "      <td>0.0</td>\n",
              "      <td>0.0</td>\n",
              "      <td>211.096358</td>\n",
              "      <td>8.106</td>\n",
              "      <td>151315</td>\n",
              "      <td>50605.27</td>\n",
              "      <td>10</td>\n",
              "      <td>0</td>\n",
              "      <td>0</td>\n",
              "      <td>2</td>\n",
              "      <td>2010</td>\n",
              "      <td>5</td>\n",
              "    </tr>\n",
              "    <tr>\n",
              "      <th>2</th>\n",
              "      <td>0</td>\n",
              "      <td>42.31</td>\n",
              "      <td>2.572</td>\n",
              "      <td>0.0</td>\n",
              "      <td>0.0</td>\n",
              "      <td>0.0</td>\n",
              "      <td>0.0</td>\n",
              "      <td>0.0</td>\n",
              "      <td>211.096358</td>\n",
              "      <td>8.106</td>\n",
              "      <td>151315</td>\n",
              "      <td>13740.12</td>\n",
              "      <td>21</td>\n",
              "      <td>0</td>\n",
              "      <td>0</td>\n",
              "      <td>2</td>\n",
              "      <td>2010</td>\n",
              "      <td>5</td>\n",
              "    </tr>\n",
              "    <tr>\n",
              "      <th>3</th>\n",
              "      <td>0</td>\n",
              "      <td>42.31</td>\n",
              "      <td>2.572</td>\n",
              "      <td>0.0</td>\n",
              "      <td>0.0</td>\n",
              "      <td>0.0</td>\n",
              "      <td>0.0</td>\n",
              "      <td>0.0</td>\n",
              "      <td>211.096358</td>\n",
              "      <td>8.106</td>\n",
              "      <td>151315</td>\n",
              "      <td>39954.04</td>\n",
              "      <td>32</td>\n",
              "      <td>0</td>\n",
              "      <td>0</td>\n",
              "      <td>2</td>\n",
              "      <td>2010</td>\n",
              "      <td>5</td>\n",
              "    </tr>\n",
              "    <tr>\n",
              "      <th>4</th>\n",
              "      <td>0</td>\n",
              "      <td>42.31</td>\n",
              "      <td>2.572</td>\n",
              "      <td>0.0</td>\n",
              "      <td>0.0</td>\n",
              "      <td>0.0</td>\n",
              "      <td>0.0</td>\n",
              "      <td>0.0</td>\n",
              "      <td>211.096358</td>\n",
              "      <td>8.106</td>\n",
              "      <td>151315</td>\n",
              "      <td>32229.38</td>\n",
              "      <td>43</td>\n",
              "      <td>0</td>\n",
              "      <td>0</td>\n",
              "      <td>2</td>\n",
              "      <td>2010</td>\n",
              "      <td>5</td>\n",
              "    </tr>\n",
              "  </tbody>\n",
              "</table>\n",
              "</div>"
            ],
            "text/plain": [
              "   IsHoliday  Temperature  Fuel_Price  ...  Date_month  Date_year  Date_day\n",
              "0          0        42.31       2.572  ...           2       2010         5\n",
              "1          0        42.31       2.572  ...           2       2010         5\n",
              "2          0        42.31       2.572  ...           2       2010         5\n",
              "3          0        42.31       2.572  ...           2       2010         5\n",
              "4          0        42.31       2.572  ...           2       2010         5\n",
              "\n",
              "[5 rows x 18 columns]"
            ]
          },
          "metadata": {
            "tags": []
          },
          "execution_count": 205
        }
      ]
    },
    {
      "cell_type": "code",
      "metadata": {
        "id": "Oc3H5qx2ODsx"
      },
      "source": [
        "X=data.drop(['Weekly_Sales'], axis=1)\n",
        "\n",
        "y=data['Weekly_Sales']"
      ],
      "execution_count": null,
      "outputs": []
    },
    {
      "cell_type": "code",
      "metadata": {
        "id": "QvPHYBJRNwDq"
      },
      "source": [
        "X_train, X_test, y_train, y_test = train_test_split(X, y, test_size = 0.3, random_state = 0)"
      ],
      "execution_count": null,
      "outputs": []
    },
    {
      "cell_type": "markdown",
      "metadata": {
        "id": "Z5LyT32pOH9Q"
      },
      "source": [
        "# **Multiple Linear Regression** "
      ]
    },
    {
      "cell_type": "code",
      "metadata": {
        "id": "71pZ94BGOK8x"
      },
      "source": [
        "from sklearn.linear_model import LinearRegression"
      ],
      "execution_count": null,
      "outputs": []
    },
    {
      "cell_type": "markdown",
      "metadata": {
        "id": "T-lqZi4UQo_Q"
      },
      "source": [
        "**Entrainement du modèle**"
      ]
    },
    {
      "cell_type": "code",
      "metadata": {
        "id": "9HFXFW_EOe7g",
        "outputId": "fd7215fc-cbc4-4ebc-ad07-742395c2e080",
        "colab": {
          "base_uri": "https://localhost:8080/",
          "height": 34
        }
      },
      "source": [
        "mlr = LinearRegression()\n",
        "mlr.fit(X_train, y_train) # Entrainement du modèle"
      ],
      "execution_count": null,
      "outputs": [
        {
          "output_type": "execute_result",
          "data": {
            "text/plain": [
              "LinearRegression(copy_X=True, fit_intercept=True, n_jobs=None, normalize=False)"
            ]
          },
          "metadata": {
            "tags": []
          },
          "execution_count": 209
        }
      ]
    },
    {
      "cell_type": "code",
      "metadata": {
        "id": "bMC-9Em7QGPF"
      },
      "source": [
        "y_pred_linear=mlr.predict(X_test) # Prediction sur le jeux de test"
      ],
      "execution_count": null,
      "outputs": []
    },
    {
      "cell_type": "markdown",
      "metadata": {
        "id": "izswTqc1QaDq"
      },
      "source": [
        "**Accuracy du modèle entrainé**"
      ]
    },
    {
      "cell_type": "code",
      "metadata": {
        "id": "NOmN8XsNQMy6"
      },
      "source": [
        "acc_linear = mlr.score(X_train, y_train) * 100"
      ],
      "execution_count": null,
      "outputs": []
    },
    {
      "cell_type": "markdown",
      "metadata": {
        "id": "_ndnOw82Q6NL"
      },
      "source": [
        "MSE, RMSE, Accuracy du modèle sur le jeux de test"
      ]
    },
    {
      "cell_type": "code",
      "metadata": {
        "id": "fgJvGNauQteO",
        "outputId": "00354d23-e6db-473f-c4a7-2b32c95557ee",
        "colab": {
          "base_uri": "https://localhost:8080/",
          "height": 68
        }
      },
      "source": [
        "from sklearn.metrics import mean_squared_error, r2_score, confusion_matrix\n",
        "mse = mean_squared_error(y_test, y_pred_linear)\n",
        "r_squared = r2_score(y_test, y_pred_linear) * 100\n",
        "from math import sqrt\n",
        "rmse = sqrt(mse)\n",
        "print('Mean_Squared_Error :' ,mse)\n",
        "print('Root_Mean_Squared_Error :' ,rmse)\n",
        "print('r_square_value :',r_squared)"
      ],
      "execution_count": null,
      "outputs": [
        {
          "output_type": "stream",
          "text": [
            "Mean_Squared_Error : 375436208.6479804\n",
            "Root_Mean_Squared_Error : 19376.17631649703\n",
            "r_square_value : 10.934082007628243\n"
          ],
          "name": "stdout"
        }
      ]
    },
    {
      "cell_type": "markdown",
      "metadata": {
        "id": "QFrS3PEJRRa4"
      },
      "source": [
        "# **Random Forest**\n",
        "\n"
      ]
    },
    {
      "cell_type": "code",
      "metadata": {
        "id": "qXRiGZmoRZT5"
      },
      "source": [
        "from sklearn.ensemble import RandomForestRegressor"
      ],
      "execution_count": null,
      "outputs": []
    },
    {
      "cell_type": "markdown",
      "metadata": {
        "id": "HpJ3IyEjRgHx"
      },
      "source": [
        "**Entrainement du modèle**"
      ]
    },
    {
      "cell_type": "code",
      "metadata": {
        "id": "trKkbgYQRavi",
        "outputId": "8f5812e1-4451-43ff-9729-1c253fb034cc",
        "colab": {
          "base_uri": "https://localhost:8080/",
          "height": 136
        }
      },
      "source": [
        "rf = RandomForestRegressor(n_estimators=100)\n",
        "rf.fit(X_train, y_train)"
      ],
      "execution_count": null,
      "outputs": [
        {
          "output_type": "execute_result",
          "data": {
            "text/plain": [
              "RandomForestRegressor(bootstrap=True, ccp_alpha=0.0, criterion='mse',\n",
              "                      max_depth=None, max_features='auto', max_leaf_nodes=None,\n",
              "                      max_samples=None, min_impurity_decrease=0.0,\n",
              "                      min_impurity_split=None, min_samples_leaf=1,\n",
              "                      min_samples_split=2, min_weight_fraction_leaf=0.0,\n",
              "                      n_estimators=100, n_jobs=None, oob_score=False,\n",
              "                      random_state=None, verbose=0, warm_start=False)"
            ]
          },
          "metadata": {
            "tags": []
          },
          "execution_count": 215
        }
      ]
    },
    {
      "cell_type": "markdown",
      "metadata": {
        "id": "sqlAz54yRx4I"
      },
      "source": [
        "**Accuracy du modèle**"
      ]
    },
    {
      "cell_type": "code",
      "metadata": {
        "id": "TDWeFMopR0UF",
        "outputId": "854c6906-510a-4f04-8e73-68db2a097320",
        "colab": {
          "base_uri": "https://localhost:8080/",
          "height": 34
        }
      },
      "source": [
        "acc_rf = rf.score(X_train, y_train) * 100\n",
        "print(acc_rf)"
      ],
      "execution_count": null,
      "outputs": [
        {
          "output_type": "stream",
          "text": [
            "99.71086669538651\n"
          ],
          "name": "stdout"
        }
      ]
    },
    {
      "cell_type": "markdown",
      "metadata": {
        "id": "5Hnb8jMHSXih"
      },
      "source": [
        "**Prédicton du modèle**"
      ]
    },
    {
      "cell_type": "code",
      "metadata": {
        "id": "0gdmB8SRSbnL"
      },
      "source": [
        "y_pred_rf=rf.predict(X_test)\n",
        "\n",
        "prediction_rf = pd.DataFrame({\n",
        "        \"Store\": X_test.Store_code.astype(str),\"Departement\":X_test.Dept_code.astype(str),\"Date\": X_test.Date_year.astype(str)\n",
        "    +'-' + X_test.Date_month.astype(str) + '-' +  X_test.Date_day.astype(str),\n",
        "        \"Weekly_Sales\": y_pred_rf\n",
        "    })\n",
        "\n",
        "# on stock les résultats dans un CSV\n",
        "prediction_rf.to_csv('prediction des weekly sales avec randomforest.csv', index=False)"
      ],
      "execution_count": null,
      "outputs": []
    },
    {
      "cell_type": "code",
      "metadata": {
        "id": "pE-LsecrTs0s",
        "outputId": "10b33f16-48cf-4ef2-b1bf-f167d9fc9781",
        "colab": {
          "base_uri": "https://localhost:8080/",
          "height": 204
        }
      },
      "source": [
        "prediction_rf.head()"
      ],
      "execution_count": null,
      "outputs": [
        {
          "output_type": "execute_result",
          "data": {
            "text/html": [
              "<div>\n",
              "<style scoped>\n",
              "    .dataframe tbody tr th:only-of-type {\n",
              "        vertical-align: middle;\n",
              "    }\n",
              "\n",
              "    .dataframe tbody tr th {\n",
              "        vertical-align: top;\n",
              "    }\n",
              "\n",
              "    .dataframe thead th {\n",
              "        text-align: right;\n",
              "    }\n",
              "</style>\n",
              "<table border=\"1\" class=\"dataframe\">\n",
              "  <thead>\n",
              "    <tr style=\"text-align: right;\">\n",
              "      <th></th>\n",
              "      <th>Store</th>\n",
              "      <th>Département</th>\n",
              "      <th>Date</th>\n",
              "      <th>Weekly_Sales</th>\n",
              "    </tr>\n",
              "  </thead>\n",
              "  <tbody>\n",
              "    <tr>\n",
              "      <th>233571</th>\n",
              "      <td>16</td>\n",
              "      <td>67</td>\n",
              "      <td>2011-11-18</td>\n",
              "      <td>3456.0418</td>\n",
              "    </tr>\n",
              "    <tr>\n",
              "      <th>88992</th>\n",
              "      <td>1</td>\n",
              "      <td>76</td>\n",
              "      <td>2010-6-18</td>\n",
              "      <td>88757.2046</td>\n",
              "    </tr>\n",
              "    <tr>\n",
              "      <th>367842</th>\n",
              "      <td>32</td>\n",
              "      <td>69</td>\n",
              "      <td>2011-12-16</td>\n",
              "      <td>7350.0586</td>\n",
              "    </tr>\n",
              "    <tr>\n",
              "      <th>184359</th>\n",
              "      <td>10</td>\n",
              "      <td>10</td>\n",
              "      <td>2012-1-13</td>\n",
              "      <td>47096.9796</td>\n",
              "    </tr>\n",
              "    <tr>\n",
              "      <th>26175</th>\n",
              "      <td>22</td>\n",
              "      <td>27</td>\n",
              "      <td>2011-10-28</td>\n",
              "      <td>1270.6146</td>\n",
              "    </tr>\n",
              "  </tbody>\n",
              "</table>\n",
              "</div>"
            ],
            "text/plain": [
              "       Store Département        Date  Weekly_Sales\n",
              "233571    16          67  2011-11-18     3456.0418\n",
              "88992      1          76   2010-6-18    88757.2046\n",
              "367842    32          69  2011-12-16     7350.0586\n",
              "184359    10          10   2012-1-13    47096.9796\n",
              "26175     22          27  2011-10-28     1270.6146"
            ]
          },
          "metadata": {
            "tags": []
          },
          "execution_count": 219
        }
      ]
    },
    {
      "cell_type": "markdown",
      "metadata": {
        "id": "chpmoz3jT4QV"
      },
      "source": [
        "# **Decision Tree**"
      ]
    },
    {
      "cell_type": "code",
      "metadata": {
        "id": "wgogg5SfT7bp"
      },
      "source": [
        "from sklearn.tree import DecisionTreeRegressor"
      ],
      "execution_count": null,
      "outputs": []
    },
    {
      "cell_type": "markdown",
      "metadata": {
        "id": "c29YDpJXUCv5"
      },
      "source": [
        "**Entrainement du modèle**"
      ]
    },
    {
      "cell_type": "code",
      "metadata": {
        "id": "_BufHLKYUBKJ",
        "outputId": "27577104-3ae9-41e5-8696-2c4a08e767ae",
        "colab": {
          "base_uri": "https://localhost:8080/",
          "height": 119
        }
      },
      "source": [
        "dt = DecisionTreeRegressor()\n",
        "dt . fit(X_train, y_train)\n",
        "# le modèle a été bien plus rapide que RandomForest"
      ],
      "execution_count": null,
      "outputs": [
        {
          "output_type": "execute_result",
          "data": {
            "text/plain": [
              "DecisionTreeRegressor(ccp_alpha=0.0, criterion='mse', max_depth=None,\n",
              "                      max_features=None, max_leaf_nodes=None,\n",
              "                      min_impurity_decrease=0.0, min_impurity_split=None,\n",
              "                      min_samples_leaf=1, min_samples_split=2,\n",
              "                      min_weight_fraction_leaf=0.0, presort='deprecated',\n",
              "                      random_state=None, splitter='best')"
            ]
          },
          "metadata": {
            "tags": []
          },
          "execution_count": 221
        }
      ]
    },
    {
      "cell_type": "markdown",
      "metadata": {
        "id": "CYuq5q2MUNtp"
      },
      "source": [
        "**Accuracy du modèle**"
      ]
    },
    {
      "cell_type": "code",
      "metadata": {
        "id": "D2Ap_6SOURxw",
        "outputId": "55462e96-b78e-4b9f-c000-584d37efd3fb",
        "colab": {
          "base_uri": "https://localhost:8080/",
          "height": 34
        }
      },
      "source": [
        "acc_dt= dt.score(X_train, y_train) * 100\n",
        "print(acc_dt)\n",
        "# Joli score"
      ],
      "execution_count": null,
      "outputs": [
        {
          "output_type": "stream",
          "text": [
            "100.0\n"
          ],
          "name": "stdout"
        }
      ]
    },
    {
      "cell_type": "markdown",
      "metadata": {
        "id": "GfKNyuK4UZ6w"
      },
      "source": [
        "**Prédiction du modèle**"
      ]
    },
    {
      "cell_type": "code",
      "metadata": {
        "id": "zUQ_uaXfUgxZ"
      },
      "source": [
        "y_pred_dt = dt.predict(X_test)"
      ],
      "execution_count": null,
      "outputs": []
    },
    {
      "cell_type": "code",
      "metadata": {
        "id": "XekfHrMgUqML"
      },
      "source": [
        "prediction_dt = pd.DataFrame({\n",
        "        \"Store\": X_test.Store_code.astype(str),\"Departement\":X_test.Dept_code.astype(str),\"Date\": X_test.Date_year.astype(str)\n",
        "    +'-' + X_test.Date_month.astype(str) + '-' +  X_test.Date_day.astype(str),\n",
        "        \"Weekly_Sales\": y_pred_rf\n",
        "    })\n",
        "\n",
        "\n",
        "# on stock les résultats dans un CSV\n",
        "prediction_dt.to_csv('prediction des weekly sales avec decision tree.csv', index=False)"
      ],
      "execution_count": null,
      "outputs": []
    },
    {
      "cell_type": "code",
      "metadata": {
        "id": "ANIKyQTAU3Op",
        "outputId": "1ac35369-cb4f-4284-885e-5522aa3164dd",
        "colab": {
          "base_uri": "https://localhost:8080/",
          "height": 204
        }
      },
      "source": [
        "prediction_dt.head()"
      ],
      "execution_count": null,
      "outputs": [
        {
          "output_type": "execute_result",
          "data": {
            "text/html": [
              "<div>\n",
              "<style scoped>\n",
              "    .dataframe tbody tr th:only-of-type {\n",
              "        vertical-align: middle;\n",
              "    }\n",
              "\n",
              "    .dataframe tbody tr th {\n",
              "        vertical-align: top;\n",
              "    }\n",
              "\n",
              "    .dataframe thead th {\n",
              "        text-align: right;\n",
              "    }\n",
              "</style>\n",
              "<table border=\"1\" class=\"dataframe\">\n",
              "  <thead>\n",
              "    <tr style=\"text-align: right;\">\n",
              "      <th></th>\n",
              "      <th>Store</th>\n",
              "      <th>Departement</th>\n",
              "      <th>Date</th>\n",
              "      <th>Weekly_Sales</th>\n",
              "    </tr>\n",
              "  </thead>\n",
              "  <tbody>\n",
              "    <tr>\n",
              "      <th>233571</th>\n",
              "      <td>16</td>\n",
              "      <td>67</td>\n",
              "      <td>2011-11-18</td>\n",
              "      <td>3456.0418</td>\n",
              "    </tr>\n",
              "    <tr>\n",
              "      <th>88992</th>\n",
              "      <td>1</td>\n",
              "      <td>76</td>\n",
              "      <td>2010-6-18</td>\n",
              "      <td>88757.2046</td>\n",
              "    </tr>\n",
              "    <tr>\n",
              "      <th>367842</th>\n",
              "      <td>32</td>\n",
              "      <td>69</td>\n",
              "      <td>2011-12-16</td>\n",
              "      <td>7350.0586</td>\n",
              "    </tr>\n",
              "    <tr>\n",
              "      <th>184359</th>\n",
              "      <td>10</td>\n",
              "      <td>10</td>\n",
              "      <td>2012-1-13</td>\n",
              "      <td>47096.9796</td>\n",
              "    </tr>\n",
              "    <tr>\n",
              "      <th>26175</th>\n",
              "      <td>22</td>\n",
              "      <td>27</td>\n",
              "      <td>2011-10-28</td>\n",
              "      <td>1270.6146</td>\n",
              "    </tr>\n",
              "  </tbody>\n",
              "</table>\n",
              "</div>"
            ],
            "text/plain": [
              "       Store Departement        Date  Weekly_Sales\n",
              "233571    16          67  2011-11-18     3456.0418\n",
              "88992      1          76   2010-6-18    88757.2046\n",
              "367842    32          69  2011-12-16     7350.0586\n",
              "184359    10          10   2012-1-13    47096.9796\n",
              "26175     22          27  2011-10-28     1270.6146"
            ]
          },
          "metadata": {
            "tags": []
          },
          "execution_count": 227
        }
      ]
    },
    {
      "cell_type": "markdown",
      "metadata": {
        "id": "xaFqz7x6VKAJ"
      },
      "source": [
        "# **Comparaison des modèles entrainés**"
      ]
    },
    {
      "cell_type": "code",
      "metadata": {
        "id": "HmwgYg8RVMsu",
        "outputId": "7e8d07c7-980e-4d3e-e7cf-485dc7ff612e",
        "colab": {
          "base_uri": "https://localhost:8080/",
          "height": 142
        }
      },
      "source": [
        "models = pd.DataFrame({\n",
        "    'Model': ['Linear Regression','Random Forest','Decision Tree'],\n",
        "    \n",
        "    'Score': [acc_linear, acc_rf,acc_dt]\n",
        "    })\n",
        "\n",
        "models.sort_values(by='Score', ascending=False)"
      ],
      "execution_count": null,
      "outputs": [
        {
          "output_type": "execute_result",
          "data": {
            "text/html": [
              "<div>\n",
              "<style scoped>\n",
              "    .dataframe tbody tr th:only-of-type {\n",
              "        vertical-align: middle;\n",
              "    }\n",
              "\n",
              "    .dataframe tbody tr th {\n",
              "        vertical-align: top;\n",
              "    }\n",
              "\n",
              "    .dataframe thead th {\n",
              "        text-align: right;\n",
              "    }\n",
              "</style>\n",
              "<table border=\"1\" class=\"dataframe\">\n",
              "  <thead>\n",
              "    <tr style=\"text-align: right;\">\n",
              "      <th></th>\n",
              "      <th>Model</th>\n",
              "      <th>Score</th>\n",
              "    </tr>\n",
              "  </thead>\n",
              "  <tbody>\n",
              "    <tr>\n",
              "      <th>2</th>\n",
              "      <td>Decision Tree</td>\n",
              "      <td>100.000000</td>\n",
              "    </tr>\n",
              "    <tr>\n",
              "      <th>1</th>\n",
              "      <td>Random Forest</td>\n",
              "      <td>99.710867</td>\n",
              "    </tr>\n",
              "    <tr>\n",
              "      <th>0</th>\n",
              "      <td>Linear Regression</td>\n",
              "      <td>10.884106</td>\n",
              "    </tr>\n",
              "  </tbody>\n",
              "</table>\n",
              "</div>"
            ],
            "text/plain": [
              "               Model       Score\n",
              "2      Decision Tree  100.000000\n",
              "1      Random Forest   99.710867\n",
              "0  Linear Regression   10.884106"
            ]
          },
          "metadata": {
            "tags": []
          },
          "execution_count": 230
        }
      ]
    },
    {
      "cell_type": "markdown",
      "metadata": {
        "id": "kVzpJ-tMVcNj"
      },
      "source": [
        "**Conclusion**\n",
        "\n",
        "Decision Tree l'emporte sur RandomeForest de peu, les résultats seront hautement similaires quoiqu'il arrive.\n",
        "\n",
        "Il n'y aurait plus qu'à importer des données sur lesquels on souhaite prédire les ventes en fonction de la taille du magasin et du département (avec du traitement avant certainement)."
      ]
    }
  ]
}